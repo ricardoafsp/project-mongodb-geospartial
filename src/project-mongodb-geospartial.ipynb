{
 "cells": [
  {
   "cell_type": "code",
   "execution_count": 2,
   "metadata": {},
   "outputs": [],
   "source": [
    "from geopandas import GeoDataFrame\n",
    "from pandas.io.json import json_normalize\n",
    "from pymongo import MongoClient\n",
    "import pymongo\n",
    "import pandas as pd\n",
    "import requests\n",
    "import os\n",
    "from bs4 import BeautifulSoup\n",
    "import re\n",
    "import math\n",
    "import geopandas as gpd\n",
    "from geopy.distance import distance\n",
    "from geopy import distance\n",
    "from shapely.geometry import Point\n",
    "import matplotlib.pyplot as plt\n",
    "from matplotlib.collections import PatchCollection\n",
    "from dotenv import load_dotenv\n",
    "load_dotenv()\n",
    "%matplotlib inline\n",
    "import folium\n",
    "from geopy.geocoders import Nominatim \n",
    "from functions import *\n",
    "from pprint import pprint \n",
    "import numpy as np"
   ]
  },
  {
   "cell_type": "markdown",
   "metadata": {},
   "source": [
    "# Comencé con las compañías que ya han recaudado al menos 1M$, los datos los obtengo de una base de datos llamada companies desde mongodb compass"
   ]
  },
  {
   "cell_type": "code",
   "execution_count": 3,
   "metadata": {},
   "outputs": [],
   "source": [
    "client = MongoClient(\"mongodb://localhost/companies\")\n",
    "db = client.get_database()"
   ]
  },
  {
   "cell_type": "code",
   "execution_count": 4,
   "metadata": {},
   "outputs": [],
   "source": [
    "compMoney = db.companies.find({\"total_money_raised\":{\"$regex\":\".*M.*\"}},{'name':1,'total_money_raised':1,'offices':1,'_id':0}).sort(\"total_money_raised\",-1)\n",
    "df = pd.DataFrame(compMoney)"
   ]
  },
  {
   "cell_type": "code",
   "execution_count": 5,
   "metadata": {},
   "outputs": [],
   "source": [
    "df = df.explode('offices')\n",
    "dfOfficeData = df[[\"offices\"]].apply(lambda r: r.offices, result_type=\"expand\", axis=1)\n",
    "cleanData = pd.concat([df,dfOfficeData], axis=1)"
   ]
  },
  {
   "cell_type": "code",
   "execution_count": 6,
   "metadata": {},
   "outputs": [],
   "source": [
    "cleanData = cleanData.drop(columns=[\"offices\", \"description\",\"address2\" ,\"state_code\", \"country_code\", \"zip_code\"])\n",
    "cleanData = cleanData.dropna()"
   ]
  },
  {
   "cell_type": "code",
   "execution_count": 7,
   "metadata": {},
   "outputs": [
    {
     "data": {
      "text/plain": [
       "19"
      ]
     },
     "execution_count": 7,
     "metadata": {},
     "output_type": "execute_result"
    }
   ],
   "source": [
    "companiesAtlanta = cleanData[cleanData['city'].str.contains(\"Atlanta\")]\n",
    "#display(companiesAtlanta)\n",
    "len(companiesAtlanta)"
   ]
  },
  {
   "cell_type": "code",
   "execution_count": 8,
   "metadata": {},
   "outputs": [
    {
     "name": "stderr",
     "output_type": "stream",
     "text": [
      "/usr/local/lib/python3.7/site-packages/ipykernel_launcher.py:15: SettingWithCopyWarning: \n",
      "A value is trying to be set on a copy of a slice from a DataFrame.\n",
      "Try using .loc[row_indexer,col_indexer] = value instead\n",
      "\n",
      "See the caveats in the documentation: http://pandas.pydata.org/pandas-docs/stable/user_guide/indexing.html#returning-a-view-versus-a-copy\n",
      "  from ipykernel import kernelapp as app\n"
     ]
    }
   ],
   "source": [
    "def asGeoJSON(lat,lng):\n",
    "    try:\n",
    "        lat = float(lat)\n",
    "        lng = float(lng)\n",
    "        if not math.isnan(lat) and not math.isnan(lng):\n",
    "            return {\n",
    "                \"type\":\"Point\",\n",
    "                \"coordinates\":[lng,lat]\n",
    "            }\n",
    "    except Exception:\n",
    "        print(\"Invalid data\")\n",
    "        return None\n",
    "\n",
    "\n",
    "companiesAtlanta[\"location\"] = companiesAtlanta[[\"latitude\",\"longitude\"]].apply(lambda x:asGeoJSON(x.latitude,x.longitude), axis=1)"
   ]
  },
  {
   "cell_type": "markdown",
   "metadata": {},
   "source": [
    "# Hago ahora Web Scrapping para conseguir las coordenadas del aeropuerto de Atlanta"
   ]
  },
  {
   "cell_type": "code",
   "execution_count": 9,
   "metadata": {},
   "outputs": [],
   "source": [
    "url = 'https://es.wikipedia.org/wiki/Aeropuerto_Internacional_Hartsfield-Jackson'\n",
    "res = requests.get(url)\n",
    "soup = BeautifulSoup(res.text, 'html.parser')"
   ]
  },
  {
   "cell_type": "code",
   "execution_count": 10,
   "metadata": {},
   "outputs": [],
   "source": [
    "airportLat = soup.select('span.latitude')\n",
    "airportLatitud = [a.text for a in airportLat]\n",
    "airportLatitud = airportLatitud[1].split(',')\n",
    "airportLatitud = float(airportLatitud[0])"
   ]
  },
  {
   "cell_type": "code",
   "execution_count": 11,
   "metadata": {},
   "outputs": [],
   "source": [
    "airportLon = soup.select('span.longitude')\n",
    "airportLongitud = float([a.text for a in airportLon][1])"
   ]
  },
  {
   "cell_type": "code",
   "execution_count": 12,
   "metadata": {},
   "outputs": [],
   "source": [
    "aeropuerto = pd.DataFrame({'longitude': airportLongitud, 'latitude': airportLatitud}, index=[0])"
   ]
  },
  {
   "cell_type": "code",
   "execution_count": 13,
   "metadata": {},
   "outputs": [],
   "source": [
    "aeropuerto[\"location\"] = aeropuerto[[\"latitude\",\"longitude\"]].apply(lambda x:asGeoJSON(x.latitude,x.longitude), axis=1)"
   ]
  },
  {
   "cell_type": "markdown",
   "metadata": {},
   "source": [
    "# Ahora continuo con los Starbucks, los datos los obtengo de una base de datos llamada Starbucks desde mongodb compass"
   ]
  },
  {
   "cell_type": "code",
   "execution_count": 14,
   "metadata": {},
   "outputs": [],
   "source": [
    "client = MongoClient(\"mongodb://localhost/starbucks\")\n",
    "db = client.get_database()"
   ]
  },
  {
   "cell_type": "code",
   "execution_count": 15,
   "metadata": {},
   "outputs": [],
   "source": [
    "starbucksAtlanta = db.starbucks.find({\"$and\":[{\"City\":{\"$eq\":\"Atlanta\"}},{\"Brand\":{\"$eq\":\"Starbucks\"}}]},{'_id':0})\n",
    "starbucksAtlanta = pd.DataFrame(starbucksAtlanta)"
   ]
  },
  {
   "cell_type": "code",
   "execution_count": 16,
   "metadata": {},
   "outputs": [
    {
     "data": {
      "text/plain": [
       "59"
      ]
     },
     "execution_count": 16,
     "metadata": {},
     "output_type": "execute_result"
    }
   ],
   "source": [
    "starbAtlanta = starbucksAtlanta.drop(columns=[\"Ownership Type\", \"Store Number\", \"Store Name\", \"Postcode\", \"State/Province\", \"Country\", \"Phone Number\", \"Timezone\"])\n",
    "starbAtlanta = starbAtlanta.rename(columns={\"Brand\": \"name\", \"Street Address\": \"address1\", \"City\": \"city\", \"Latitude\":\"latitude\", \"Longitude\": \"longitude\"})\n",
    "len(starbAtlanta)"
   ]
  },
  {
   "cell_type": "code",
   "execution_count": 17,
   "metadata": {},
   "outputs": [],
   "source": [
    "starbAtlanta[\"location\"] = starbAtlanta[[\"latitude\",\"longitude\"]].apply(lambda x:asGeoJSON(x.latitude,x.longitude), axis=1)"
   ]
  },
  {
   "cell_type": "markdown",
   "metadata": {},
   "source": [
    "# A continuación obtengo los colegios mediante la api de foursquare"
   ]
  },
  {
   "cell_type": "code",
   "execution_count": 18,
   "metadata": {},
   "outputs": [],
   "source": [
    "url = \"https://api.foursquare.com/v2/venues/explore?ll=33.74,-84.38&query=college&client_id=YXKP2CA5QFGFCV0503ZQBXIDBQXZCDV5MV2FSYZLSDNIEHCT&client_secret=MEMSU1KAINCBNI5RV3DWUOC5A2TV1DFVUAFLONH4CY33G2NP&v=20200210\"\n",
    "results = requests.get(url).json()\n",
    "venues = results['response']['groups'][0]['items']\n",
    "nearby_venues = json_normalize(venues)"
   ]
  },
  {
   "cell_type": "code",
   "execution_count": 19,
   "metadata": {},
   "outputs": [
    {
     "data": {
      "text/plain": [
       "30"
      ]
     },
     "execution_count": 19,
     "metadata": {},
     "output_type": "execute_result"
    }
   ],
   "source": [
    "filtered_columns = ['venue.name', 'venue.categories', 'venue.location.lat', 'venue.location.lng']\n",
    "atlantaCollege = nearby_venues.loc[:, filtered_columns]\n",
    "atlantaCollege = atlantaCollege.rename(columns={\"venue.name\": \"name\", \"venue.categories\": \"categories\", \"venue.location.lat\": \"latitude\", \"venue.location.lng\": \"longitude\"})\n",
    "\n",
    "atlantaCollege = atlantaCollege.explode('categories')\n",
    "college = atlantaCollege[[\"categories\"]].apply(lambda r: r.categories, result_type=\"expand\", axis=1)\n",
    "colegios = pd.concat([atlantaCollege,college], axis=1)\n",
    "colegios = colegios.drop(columns=[\"categories\", \"id\", \"pluralName\", \"shortName\", \"icon\"])\n",
    "colegios.columns = ['name', 'latitude', 'longitude', 'type', 'primary']\n",
    "len(colegios)"
   ]
  },
  {
   "cell_type": "code",
   "execution_count": 20,
   "metadata": {},
   "outputs": [],
   "source": [
    "colegios[\"location\"] = colegios[[\"latitude\",\"longitude\"]].apply(lambda x:asGeoJSON(x.latitude,x.longitude), axis=1)"
   ]
  },
  {
   "cell_type": "markdown",
   "metadata": {},
   "source": [
    "# Ahora voy a unir las companies, los starbucks, el aeropuerto y los colegios por location (lat+long)"
   ]
  },
  {
   "cell_type": "code",
   "execution_count": 21,
   "metadata": {
    "scrolled": false
   },
   "outputs": [
    {
     "name": "stderr",
     "output_type": "stream",
     "text": [
      "/usr/local/lib/python3.7/site-packages/ipykernel_launcher.py:1: FutureWarning: Sorting because non-concatenation axis is not aligned. A future version\n",
      "of pandas will change to not sort by default.\n",
      "\n",
      "To accept the future behavior, pass 'sort=False'.\n",
      "\n",
      "To retain the current behavior and silence the warning, pass 'sort=True'.\n",
      "\n",
      "  \"\"\"Entry point for launching an IPython kernel.\n"
     ]
    }
   ],
   "source": [
    "result_location = pd.concat([companiesAtlanta, starbAtlanta, aeropuerto, colegios])\n",
    "#result_location = result_location.drop(columns=[\"latitude\",\"longitude\"])"
   ]
  },
  {
   "cell_type": "markdown",
   "metadata": {},
   "source": [
    "# Exporto el resultado obtenido como .json para trabajarlo en mongo compass (en este punto no logré hacer lo que quería que era ver el mapa desde mongo compass, no me aparece la opción de schema)"
   ]
  },
  {
   "cell_type": "code",
   "execution_count": 22,
   "metadata": {},
   "outputs": [],
   "source": [
    "#result_location.to_json(\"result_final.json\", orient=\"records\")\n",
    "#print(type(resultado_location))"
   ]
  },
  {
   "cell_type": "code",
   "execution_count": 23,
   "metadata": {},
   "outputs": [],
   "source": [
    "#client = MongoClient(\"mongodb://localhost/\")\n",
    "#db = client.get_database()"
   ]
  },
  {
   "cell_type": "markdown",
   "metadata": {},
   "source": [
    "# Convierto los puntos obtenidos a GeoPoints para trabajarlos con Carto como Geopandas"
   ]
  },
  {
   "cell_type": "code",
   "execution_count": 24,
   "metadata": {},
   "outputs": [],
   "source": [
    "def asGeo(name):\n",
    "    return gpd.GeoDataFrame(name, geometry=gpd.points_from_xy(name.longitude, name.latitude))\n",
    "gCompaniesAtlanta = asGeo(companiesAtlanta)"
   ]
  },
  {
   "cell_type": "code",
   "execution_count": 25,
   "metadata": {},
   "outputs": [],
   "source": [
    "gAeropuerto = asGeo(aeropuerto)"
   ]
  },
  {
   "cell_type": "code",
   "execution_count": 26,
   "metadata": {},
   "outputs": [],
   "source": [
    "gStarbAtlanta = asGeo(starbAtlanta)"
   ]
  },
  {
   "cell_type": "code",
   "execution_count": 27,
   "metadata": {},
   "outputs": [],
   "source": [
    "gColegios = asGeo(colegios)"
   ]
  },
  {
   "cell_type": "markdown",
   "metadata": {},
   "source": [
    "# Unimos gcompanies, gaeropuerto, gstarbucks y gcolegios por geometry para Geopandas"
   ]
  },
  {
   "cell_type": "code",
   "execution_count": 28,
   "metadata": {},
   "outputs": [
    {
     "name": "stderr",
     "output_type": "stream",
     "text": [
      "/usr/local/lib/python3.7/site-packages/ipykernel_launcher.py:1: FutureWarning: Sorting because non-concatenation axis is not aligned. A future version\n",
      "of pandas will change to not sort by default.\n",
      "\n",
      "To accept the future behavior, pass 'sort=False'.\n",
      "\n",
      "To retain the current behavior and silence the warning, pass 'sort=True'.\n",
      "\n",
      "  \"\"\"Entry point for launching an IPython kernel.\n"
     ]
    }
   ],
   "source": [
    "resultado_geometry = pd.concat([gCompaniesAtlanta, gStarbAtlanta, gAeropuerto, gColegios])\n",
    "resultado_geometry = resultado_geometry.drop(columns=[\"latitude\",\"longitude\"])"
   ]
  },
  {
   "cell_type": "markdown",
   "metadata": {},
   "source": [
    "# Ya teniendo todo junto obtengo un mapa mediante Carto, en el paso anterior los uní pero ahora los trabajo por separado para poder dar colores a cada uno"
   ]
  },
  {
   "cell_type": "code",
   "execution_count": 128,
   "metadata": {},
   "outputs": [],
   "source": [
    "crs = {'init': 'epsg:4326'}\n",
    "gdf = GeoDataFrame(resultado_geometry, crs=crs)"
   ]
  },
  {
   "cell_type": "code",
   "execution_count": 129,
   "metadata": {},
   "outputs": [
    {
     "data": {
      "text/html": [
       "<iframe\n",
       "  frameborder=\"0\"\n",
       "  style=\"\n",
       "    border: 1px solid #cfcfcf;\n",
       "    width: 100%;\n",
       "    height: 632px;\n",
       "    \"\n",
       "  srcDoc=\"\n",
       "  <!DOCTYPE html>\n",
       "<html lang=&quot;en&quot;>\n",
       "<head>\n",
       "  <title>None</title>\n",
       "  <meta name=&quot;description&quot; content=&quot;None&quot;>\n",
       "  <meta name=&quot;viewport&quot; content=&quot;width=device-width, initial-scale=1.0&quot;>\n",
       "  <meta charset=&quot;UTF-8&quot;>\n",
       "  <!-- Include CARTO VL JS -->\n",
       "  <script src=&quot;https://libs.cartocdn.com/carto-vl/v1.4/carto-vl.min.js&quot;></script>\n",
       "  <!-- Include Mapbox GL JS -->\n",
       "  <script src=&quot;https://api.tiles.mapbox.com/mapbox-gl-js/v1.0.0/mapbox-gl.js&quot;></script>\n",
       "  <!-- Include Mapbox GL CSS -->\n",
       "  <link href=&quot;https://api.tiles.mapbox.com/mapbox-gl-js/v1.0.0/mapbox-gl.css&quot; rel=&quot;stylesheet&quot; />\n",
       "\n",
       "  <!-- Include Airship -->\n",
       "  <script nomodule=&quot;&quot; src=&quot;https://libs.cartocdn.com/airship-components/v2.2.0-rc.2.1/airship.js&quot;></script>\n",
       "  <script type=&quot;module&quot; src=&quot;https://libs.cartocdn.com/airship-components/v2.2.0-rc.2.1/airship/airship.esm.js&quot;></script>\n",
       "  <script src=&quot;https://libs.cartocdn.com/airship-bridge/v2.2.0-rc.2.1/asbridge.min.js&quot;></script>\n",
       "  <link href=&quot;https://libs.cartocdn.com/airship-style/v2.2.0-rc.2.1/airship.min.css&quot; rel=&quot;stylesheet&quot;>\n",
       "  <link href=&quot;https://libs.cartocdn.com/airship-icons/v2.2.0-rc.2.1/icons.css&quot; rel=&quot;stylesheet&quot;>\n",
       "\n",
       "  <link href=&quot;https://fonts.googleapis.com/css?family=Roboto&quot; rel=&quot;stylesheet&quot; type=&quot;text/css&quot;>\n",
       "\n",
       "  <!-- External libraries -->\n",
       "  \n",
       "  <!-- base64-js -->\n",
       "  <script src='https://libs.cartocdn.com/cartoframes/dependencies/base64.js'></script>\n",
       "  \n",
       "  <!-- html2canvas -->\n",
       "  \n",
       "\n",
       "  \n",
       "  <style>\n",
       "  body {\n",
       "    margin: 0;\n",
       "    padding: 0;\n",
       "  }\n",
       "\n",
       "  aside.as-sidebar {\n",
       "    min-width: 300px;\n",
       "  }\n",
       "\n",
       "  .map-image {\n",
       "    display: none;\n",
       "    max-width: 100%;\n",
       "    height: auto;\n",
       "  }\n",
       "</style>\n",
       "  <style>\n",
       "  .map {\n",
       "    position: absolute;\n",
       "    height: 100%;\n",
       "    width: 100%;\n",
       "  }\n",
       "\n",
       "  .map-info {\n",
       "    position: absolute;\n",
       "    bottom: 0;\n",
       "    padding: 0 5px;\n",
       "    background-color: rgba(255, 255, 255, 0.5);\n",
       "    margin: 0;\n",
       "    color: rgba(0, 0, 0, 0.75);\n",
       "    font-size: 12px;\n",
       "    width: auto;\n",
       "    height: 18px;\n",
       "    font-family: 'Open Sans';\n",
       "  }\n",
       "\n",
       "  .map-footer {\n",
       "    background: #F2F6F9;\n",
       "    font-family: Roboto;\n",
       "    font-size: 12px;\n",
       "    line-height: 24px;\n",
       "    color: #162945;\n",
       "    text-align: center;\n",
       "    z-index: 2;\n",
       "  }\n",
       "\n",
       "  .map-footer a {\n",
       "    text-decoration: none;\n",
       "  }\n",
       "\n",
       "  .map-footer a:hover {\n",
       "    text-decoration: underline;\n",
       "  }\n",
       "</style>\n",
       "    <style>\n",
       "    #error-container {\n",
       "      position: absolute;\n",
       "      width: 100%;\n",
       "      height: 100%;\n",
       "      background-color: white;\n",
       "      visibility: hidden;\n",
       "      padding: 1em;\n",
       "      font-family: &quot;Courier New&quot;, Courier, monospace;\n",
       "      margin: 0 auto;\n",
       "      font-size: 14px;\n",
       "      overflow: auto;\n",
       "      z-index: 1000;\n",
       "      color: black;\n",
       "    }\n",
       "\n",
       "    .error-section {\n",
       "      padding: 1em;\n",
       "      border-radius: 5px;\n",
       "      background-color: #fee;\n",
       "    }\n",
       "\n",
       "    #error-container #error-highlight {\n",
       "      font-weight: bold;\n",
       "      color: inherit;\n",
       "    }\n",
       "\n",
       "    #error-container #error-type {\n",
       "      color: #008000;\n",
       "    }\n",
       "\n",
       "    #error-container #error-name {\n",
       "      color: #ba2121;\n",
       "    }\n",
       "\n",
       "    #error-container #error-content {\n",
       "      margin-top: 0.4em;\n",
       "    }\n",
       "\n",
       "    .error-details {\n",
       "      margin-top: 1em;\n",
       "    }\n",
       "\n",
       "    #error-stacktrace {\n",
       "      list-style: none;\n",
       "    }\n",
       "</style>\n",
       "  <style>\n",
       "    .popup-content {\n",
       "      display: flex;\n",
       "      flex-direction: column;\n",
       "      padding: 8px;\n",
       "    }\n",
       "\n",
       "    .popup-name {\n",
       "      font-size: 12px;\n",
       "      font-weight: 400;\n",
       "      line-height: 20px;\n",
       "      margin-bottom: 4px;\n",
       "    }\n",
       "\n",
       "    .popup-value {\n",
       "      font-size: 16px;\n",
       "      font-weight: 600;\n",
       "      line-height: 20px;\n",
       "    }\n",
       "\n",
       "    .popup-value:not(:last-of-type) {\n",
       "      margin-bottom: 16px;\n",
       "    }\n",
       "</style>\n",
       "  <style>\n",
       "  as-widget-header .as-widget-header__header {\n",
       "    margin-bottom: 8px;\n",
       "    overflow-wrap: break-word;\n",
       "  }\n",
       "\n",
       "  as-widget-header .as-widget-header__subheader {\n",
       "    margin-bottom: 12px;\n",
       "  }\n",
       "\n",
       "  as-category-widget {\n",
       "    max-height: 250px;\n",
       "  }\n",
       "</style>\n",
       "</head>\n",
       "\n",
       "<body class=&quot;as-app-body as-app&quot;>\n",
       "  <img id=&quot;map-image&quot; class=&quot;map-image&quot; alt='Static map image' />\n",
       "  <as-responsive-content id=&quot;main-container&quot;>\n",
       "    \n",
       "    <main class=&quot;as-main&quot;>\n",
       "      <div class=&quot;as-map-area&quot;>\n",
       "        <div id=&quot;map&quot; class=&quot;map&quot;></div>\n",
       "        \n",
       "        \n",
       "      </div> <!-- as-map-area -->\n",
       "    </main> <!-- as-main -->\n",
       "  </as-responsive-content>\n",
       "\n",
       "  \n",
       "\n",
       "  <div id=&quot;error-container&quot; class=&quot;error&quot;>\n",
       "  <p>There is a <span class=&quot;errors&quot; id=&quot;error-highlight&quot;></span>\n",
       "  from the <a href=&quot;https://carto.com/developers/carto-vl/&quot; target=&quot;_blank&quot;>CARTO VL</a> library:</p>\n",
       "  <section class=&quot;error-section&quot;>\n",
       "    <span class=&quot;errors&quot; id=&quot;error-name&quot;></span>:\n",
       "    <section id=&quot;error-content&quot;>\n",
       "      <span class=&quot;errors&quot; id=&quot;error-type&quot;></span>\n",
       "      <span class=&quot;errors&quot; id=&quot;error-message&quot;></span>\n",
       "    </section>\n",
       "  </section>\n",
       "\n",
       "  <details class=&quot;error-details&quot;>\n",
       "    <summary>StackTrace</summary>\n",
       "    <ul id=&quot;error-stacktrace&quot;></ul>\n",
       "  </details>\n",
       "</div>\n",
       "</body>\n",
       "\n",
       "<script>\n",
       "  var init = (function () {\n",
       "  'use strict';\n",
       "\n",
       "  const BASEMAPS = {\n",
       "    DarkMatter: carto.basemaps.darkmatter,\n",
       "    Voyager: carto.basemaps.voyager,\n",
       "    Positron: carto.basemaps.positron\n",
       "  };\n",
       "\n",
       "  const attributionControl = new mapboxgl.AttributionControl({\n",
       "    compact: false\n",
       "  });\n",
       "\n",
       "  const FIT_BOUNDS_SETTINGS = { animate: false, padding: 50, maxZoom: 14 };\n",
       "\n",
       "  function format(value) {\n",
       "    if (Array.isArray(value)) {\n",
       "      const [first, second] = value;\n",
       "      if (first === -Infinity) {\n",
       "        return `< ${formatValue(second)}`;\n",
       "      }\n",
       "      if (second === Infinity) {\n",
       "        return `> ${formatValue(first)}`;\n",
       "      }\n",
       "      return `${formatValue(first)} - ${formatValue(second)}`;\n",
       "    }\n",
       "    return formatValue(value);\n",
       "  }\n",
       "\n",
       "  function formatValue(value) {\n",
       "    if (typeof value === 'number') {\n",
       "      return formatNumber(value);\n",
       "    }\n",
       "    return value;\n",
       "  }\n",
       "\n",
       "  function formatNumber(value) {\n",
       "    const log = Math.log10(Math.abs(value));\n",
       "\n",
       "    if ((log > 4 || log < -2.00000001) && value) {\n",
       "      return value.toExponential(2);\n",
       "    }\n",
       "    \n",
       "    if (!Number.isInteger(value)) {\n",
       "      return value.toLocaleString(undefined, {\n",
       "        minimumFractionDigits: 2,\n",
       "        maximumFractionDigits: 3\n",
       "      });\n",
       "    }\n",
       "    \n",
       "    return value.toLocaleString();\n",
       "  }\n",
       "\n",
       "  function updateViewport(map) {\n",
       "    function updateMapInfo() {\n",
       "      const mapInfo$ = document.getElementById('map-info');\n",
       "      const center = map.getCenter();\n",
       "      const lat = center.lat.toFixed(6);\n",
       "      const lng = center.lng.toFixed(6);\n",
       "      const zoom = map.getZoom().toFixed(2);\n",
       "    \n",
       "      mapInfo$.innerText = `viewport={'zoom': ${zoom}, 'lat': ${lat}, 'lng': ${lng}}`;\n",
       "    }\n",
       "\n",
       "    updateMapInfo();\n",
       "\n",
       "    map.on('zoom', updateMapInfo);\n",
       "    map.on('move', updateMapInfo); \n",
       "  }\n",
       "\n",
       "  function getBasecolorSettings(basecolor) {\n",
       "    return {\n",
       "      'version': 8,\n",
       "      'sources': {},\n",
       "      'layers': [{\n",
       "          'id': 'background',\n",
       "          'type': 'background',\n",
       "          'paint': {\n",
       "              'background-color': basecolor\n",
       "          }\n",
       "      }]\n",
       "    };\n",
       "  }\n",
       "\n",
       "  function getImageElement(mapIndex) {\n",
       "    const id = mapIndex !== undefined ? `map-image-${mapIndex}` : 'map-image';\n",
       "    return document.getElementById(id);\n",
       "  }\n",
       "\n",
       "  function getContainerElement(mapIndex) {\n",
       "    const id = mapIndex !== undefined ? `main-container-${mapIndex}` : 'main-container';\n",
       "    return document.getElementById(id);\n",
       "  }\n",
       "\n",
       "  function saveImage(mapIndex) {\n",
       "    const img = getImageElement(mapIndex);\n",
       "    const container = getContainerElement(mapIndex);\n",
       "\n",
       "    html2canvas(container)\n",
       "      .then((canvas) => setMapImage(canvas, img, container));\n",
       "  }\n",
       "\n",
       "  function setMapImage(canvas, img, container) {\n",
       "    const src = canvas.toDataURL();\n",
       "    img.setAttribute('src', src);\n",
       "    img.style.display = 'block';\n",
       "    container.style.display = 'none';\n",
       "  }\n",
       "\n",
       "  function createDefaultLegend(layers) {\n",
       "    const defaultLegendContainer = document.getElementById('default-legend-container');\n",
       "    defaultLegendContainer.style.display = 'none';\n",
       "\n",
       "    AsBridge.VL.Legends.layersLegend(\n",
       "      '#default-legend',\n",
       "      layers,\n",
       "      {\n",
       "        onLoad: () => defaultLegendContainer.style.display = 'unset'\n",
       "      }\n",
       "    );\n",
       "  }\n",
       "\n",
       "  function createLegend(layer, legendData, layerIndex, mapIndex=0) {\n",
       "    const element = document.querySelector(`#layer${layerIndex}_map${mapIndex}_legend`);\n",
       "    \n",
       "    if (legendData.length) {\n",
       "      legendData.forEach((legend, legendIndex) => _createLegend(layer, legend, layerIndex, legendIndex, mapIndex));\n",
       "    } else {\n",
       "      _createLegend(layer, legendData, layerIndex, 0, mapIndex);\n",
       "    }\n",
       "  }\n",
       "\n",
       "  function _createLegend(layer, legend, layerIndex, legendIndex, mapIndex=0) {\n",
       "    const element = document.querySelector(`#layer${layerIndex}_map${mapIndex}_legend${legendIndex}`);\n",
       "\n",
       "    if (legend.prop) {\n",
       "      const othersLabel = 'Others';   // TODO: i18n\n",
       "      const prop = legend.prop;\n",
       "      const dynamic = legend.dynamic;\n",
       "      const variable = legend.variable;\n",
       "      const config = { othersLabel, variable };\n",
       "      const options = { format, config, dynamic };\n",
       "\n",
       "      if (legend.type.startsWith('size-continuous')) {\n",
       "        config.samples = 4;\n",
       "      }\n",
       "      \n",
       "      AsBridge.VL.Legends.rampLegend(element, layer, prop, options);\n",
       "    }\n",
       "  }\n",
       "\n",
       "  /** From https://github.com/errwischt/stacktrace-parser/blob/master/src/stack-trace-parser.js */\n",
       "\n",
       "  /**\n",
       "   * This parses the different stack traces and puts them into one format\n",
       "   * This borrows heavily from TraceKit (https://github.com/csnover/TraceKit)\n",
       "   */\n",
       "\n",
       "  const UNKNOWN_FUNCTION = '<unknown>';\n",
       "  const chromeRe = /^\\s*at (.*?) ?\\(((?:file|https?|blob|chrome-extension|native|eval|webpack|<anonymous>|\\/).*?)(?::(\\d+))?(?::(\\d+))?\\)?\\s*$/i;\n",
       "  const chromeEvalRe = /\\((\\S*)(?::(\\d+))(?::(\\d+))\\)/;\n",
       "  const winjsRe = /^\\s*at (?:((?:\\[object object\\])?.+) )?\\(?((?:file|ms-appx|https?|webpack|blob):.*?):(\\d+)(?::(\\d+))?\\)?\\s*$/i;\n",
       "  const geckoRe = /^\\s*(.*?)(?:\\((.*?)\\))?(?:^|@)((?:file|https?|blob|chrome|webpack|resource|\\[native).*?|[^@]*bundle)(?::(\\d+))?(?::(\\d+))?\\s*$/i;\n",
       "  const geckoEvalRe = /(\\S+) line (\\d+)(?: > eval line \\d+)* > eval/i;\n",
       "\n",
       "  function parse(stackString) {\n",
       "    const lines = stackString.split('\\n');\n",
       "\n",
       "    return lines.reduce((stack, line) => {\n",
       "      const parseResult =\n",
       "        parseChrome(line) ||\n",
       "        parseWinjs(line) ||\n",
       "        parseGecko(line);\n",
       "\n",
       "      if (parseResult) {\n",
       "        stack.push(parseResult);\n",
       "      }\n",
       "\n",
       "      return stack;\n",
       "    }, []);\n",
       "  }\n",
       "\n",
       "  function parseChrome(line) {\n",
       "    const parts = chromeRe.exec(line);\n",
       "\n",
       "    if (!parts) {\n",
       "      return null;\n",
       "    }\n",
       "\n",
       "    const isNative = parts[2] && parts[2].indexOf('native') === 0; // start of line\n",
       "    const isEval = parts[2] && parts[2].indexOf('eval') === 0; // start of line\n",
       "\n",
       "    const submatch = chromeEvalRe.exec(parts[2]);\n",
       "    if (isEval && submatch != null) {\n",
       "      // throw out eval line/column and use top-most line/column number\n",
       "      parts[2] = submatch[1]; // url\n",
       "      parts[3] = submatch[2]; // line\n",
       "      parts[4] = submatch[3]; // column\n",
       "    }\n",
       "\n",
       "    return {\n",
       "      file: !isNative ? parts[2] : null,\n",
       "      methodName: parts[1] || UNKNOWN_FUNCTION,\n",
       "      arguments: isNative ? [parts[2]] : [],\n",
       "      lineNumber: parts[3] ? +parts[3] : null,\n",
       "      column: parts[4] ? +parts[4] : null,\n",
       "    };\n",
       "  }\n",
       "\n",
       "  function parseWinjs(line) {\n",
       "    const parts = winjsRe.exec(line);\n",
       "\n",
       "    if (!parts) {\n",
       "      return null;\n",
       "    }\n",
       "\n",
       "    return {\n",
       "      file: parts[2],\n",
       "      methodName: parts[1] || UNKNOWN_FUNCTION,\n",
       "      arguments: [],\n",
       "      lineNumber: +parts[3],\n",
       "      column: parts[4] ? +parts[4] : null,\n",
       "    };\n",
       "  }\n",
       "\n",
       "  function parseGecko(line) {\n",
       "    const parts = geckoRe.exec(line);\n",
       "\n",
       "    if (!parts) {\n",
       "      return null;\n",
       "    }\n",
       "\n",
       "    const isEval = parts[3] && parts[3].indexOf(' > eval') > -1;\n",
       "\n",
       "    const submatch = geckoEvalRe.exec(parts[3]);\n",
       "    if (isEval && submatch != null) {\n",
       "      // throw out eval line/column and use top-most line number\n",
       "      parts[3] = submatch[1];\n",
       "      parts[4] = submatch[2];\n",
       "      parts[5] = null; // no column when eval\n",
       "    }\n",
       "\n",
       "    return {\n",
       "      file: parts[3],\n",
       "      methodName: parts[1] || UNKNOWN_FUNCTION,\n",
       "      arguments: parts[2] ? parts[2].split(',') : [],\n",
       "      lineNumber: parts[4] ? +parts[4] : null,\n",
       "      column: parts[5] ? +parts[5] : null,\n",
       "    };\n",
       "  }\n",
       "\n",
       "  function displayError(e) {\n",
       "    const error$ = document.getElementById('error-container');\n",
       "    const errors$ = error$.getElementsByClassName('errors');\n",
       "    const stacktrace$ = document.getElementById('error-stacktrace');\n",
       "\n",
       "    errors$[0].innerHTML = e.name;\n",
       "    errors$[1].innerHTML = e.name;\n",
       "    errors$[2].innerHTML = e.type;\n",
       "    errors$[3].innerHTML = e.message.replace(e.type, '');\n",
       "\n",
       "    error$.style.visibility = 'visible';\n",
       "\n",
       "    const stack = parse(e.stack);\n",
       "    const list = stack.map(item => {\n",
       "      return `<li>\n",
       "      at <span class=&quot;stacktrace-method&quot;>${item.methodName}:</span>\n",
       "      (${item.file}:${item.lineNumber}:${item.column})\n",
       "    </li>`;\n",
       "    });\n",
       "\n",
       "    stacktrace$.innerHTML = list.join('\\n');\n",
       "  }\n",
       "\n",
       "  function resetPopupClick(interactivity) {\n",
       "    interactivity.off('featureClick');\n",
       "  }\n",
       "\n",
       "  function resetPopupHover(interactivity) {\n",
       "    interactivity.off('featureHover');\n",
       "  }\n",
       "\n",
       "  function setPopupsClick(map, popup, interactivity, attrs) {\n",
       "    interactivity.on('featureClick', (event) => {\n",
       "      updatePopup(map, popup, event, attrs);\n",
       "    });\n",
       "  }\n",
       "\n",
       "  function setPopupsHover(map, popup, interactivity, attrs) {\n",
       "    interactivity.on('featureHover', (event) => {\n",
       "      updatePopup(map, popup, event, attrs);\n",
       "    });\n",
       "  }\n",
       "\n",
       "  function updatePopup(map, popup, event, attrs) {\n",
       "    if (event.features.length > 0) {\n",
       "      let popupHTML = '';\n",
       "      const layerIDs = [];\n",
       "\n",
       "      for (const feature of event.features) {\n",
       "        if (layerIDs.includes(feature.layerId)) {\n",
       "          continue;\n",
       "        }\n",
       "        // Track layers to add only one feature per layer\n",
       "        layerIDs.push(feature.layerId);\n",
       "    \n",
       "        for (const item of attrs) {\n",
       "          const variable = feature.variables[item.name];\n",
       "          if (variable) {\n",
       "            let value = variable.value;\n",
       "            value = formatValue(value);\n",
       "\n",
       "            popupHTML = `\n",
       "            <span class=&quot;popup-name&quot;>${item.title}</span>\n",
       "            <span class=&quot;popup-value&quot;>${value}</span>\n",
       "          ` + popupHTML;\n",
       "          }\n",
       "        }\n",
       "      }\n",
       "\n",
       "      popup\n",
       "          .setLngLat([event.coordinates.lng, event.coordinates.lat])\n",
       "          .setHTML(`<div class=&quot;popup-content&quot;>${popupHTML}</div>`);\n",
       "\n",
       "      if (!popup.isOpen()) {\n",
       "        popup.addTo(map);\n",
       "      }\n",
       "    } else {\n",
       "      popup.remove();\n",
       "    }\n",
       "  }\n",
       "\n",
       "  function setInteractivity(map, interactiveLayers, interactiveMapLayers) {\n",
       "    const interactivity = new carto.Interactivity(interactiveMapLayers);\n",
       "    const popup = new mapboxgl.Popup({\n",
       "      closeButton: false,\n",
       "      closeOnClick: false\n",
       "    });\n",
       "\n",
       "    const { clickAttrs, hoverAttrs } = _setInteractivityAttrs(interactiveLayers);\n",
       "\n",
       "    resetPopupClick(map);\n",
       "    resetPopupHover(map);\n",
       "\n",
       "    if (clickAttrs.length > 0) {\n",
       "      setPopupsClick(map, popup, interactivity, clickAttrs);\n",
       "    }\n",
       "\n",
       "    if (hoverAttrs.length > 0) {\n",
       "      setPopupsHover(map, popup, interactivity, hoverAttrs);\n",
       "    }\n",
       "  }\n",
       "\n",
       "  function _setInteractivityAttrs(interactiveLayers) {\n",
       "    let clickAttrs = [];\n",
       "    let hoverAttrs = [];\n",
       "\n",
       "    interactiveLayers.forEach((interactiveLayer) => {\n",
       "      interactiveLayer.interactivity.forEach((interactivityDef) => {\n",
       "        if (interactivityDef.event === 'click') {\n",
       "          clickAttrs = clickAttrs.concat(interactivityDef.attrs);\n",
       "        } else if (interactivityDef.event === 'hover') {\n",
       "          hoverAttrs = hoverAttrs.concat(interactivityDef.attrs);\n",
       "        }\n",
       "      });\n",
       "    });\n",
       "\n",
       "    return { clickAttrs, hoverAttrs };\n",
       "  }\n",
       "\n",
       "  function renderWidget(widget, value) {\n",
       "    widget.element = widget.element || document.querySelector(`#${widget.id}-value`);\n",
       "\n",
       "    if (value && widget.element) {\n",
       "      widget.element.innerText = typeof value === 'number' ? format(value) : value;\n",
       "    }\n",
       "  }\n",
       "\n",
       "  function renderBridge(bridge, widget, mapLayer) {\n",
       "    widget.element = widget.element || document.querySelector(`#${widget.id}`);\n",
       "\n",
       "    switch (widget.type) {\n",
       "      case 'histogram':\n",
       "        const type = _getWidgetType(mapLayer, widget.value, widget.prop);\n",
       "        const histogram = type === 'category' ? 'categoricalHistogram' : 'numericalHistogram';\n",
       "        bridge[histogram](widget.element, widget.value, widget.options);\n",
       "\n",
       "        break;\n",
       "      case 'category':\n",
       "        bridge.category(widget.element, widget.value, widget.options);\n",
       "        break;\n",
       "      case 'animation':\n",
       "        widget.options.propertyName = widget.prop;\n",
       "        bridge.animationControls(widget.element, widget.value, widget.options);\n",
       "        break;\n",
       "      case 'time-series':\n",
       "        widget.options.propertyName = widget.prop;\n",
       "        bridge.timeSeries(widget.element, widget.value, widget.options);\n",
       "        break;\n",
       "    }\n",
       "  }\n",
       "\n",
       "  function bridgeLayerWidgets(map, mapLayer, mapSource, widgets) {\n",
       "    const bridge = new AsBridge.VL.Bridge({\n",
       "      carto: carto,\n",
       "      layer: mapLayer,\n",
       "      source: mapSource,\n",
       "      map: map\n",
       "    });\n",
       "\n",
       "    widgets\n",
       "      .filter((widget) => widget.has_bridge)\n",
       "      .forEach((widget) => renderBridge(bridge, widget, mapLayer));\n",
       "\n",
       "    bridge.build();\n",
       "  }\n",
       "\n",
       "  function _getWidgetType(layer, property, value) {\n",
       "    return layer.metadata && layer.metadata.properties[value] ?\n",
       "      layer.metadata.properties[value].type\n",
       "      : _getWidgetPropertyType(layer, property);\n",
       "  }\n",
       "\n",
       "  function _getWidgetPropertyType(layer, property) {\n",
       "    return layer.metadata && layer.metadata.properties[property] ?\n",
       "      layer.metadata.properties[property].type\n",
       "      : null;\n",
       "  }\n",
       "\n",
       "  function SourceFactory() {\n",
       "    const sourceTypes = { GeoJSON, Query, MVT };\n",
       "\n",
       "    this.createSource = (layer) => {\n",
       "      return sourceTypes[layer.type](layer);\n",
       "    };\n",
       "  }\n",
       "\n",
       "  function GeoJSON(layer) {\n",
       "    return new carto.source.GeoJSON(_decodeJSONQuery(layer.query));\n",
       "  }\n",
       "\n",
       "  function Query(layer) {\n",
       "    const auth = {\n",
       "      username: layer.credentials.username,\n",
       "      apiKey: layer.credentials.api_key || 'default_public'\n",
       "    };\n",
       "\n",
       "    const config = {\n",
       "      serverURL: layer.credentials.base_url || `https://${layer.credentials.username}.carto.com/`\n",
       "    };\n",
       "\n",
       "    return new carto.source.SQL(layer.query, auth, config);\n",
       "  }\n",
       "\n",
       "  function MVT(layer) {\n",
       "    return new carto.source.MVT(layer.query.file, JSON.parse(layer.query.metadata));\n",
       "  }\n",
       "\n",
       "  function _decodeJSONQuery(query) {\n",
       "    return JSON.parse(Base64.decode(query.replace(/b\\'/, '\\'')));\n",
       "  }\n",
       "\n",
       "  const factory = new SourceFactory();\n",
       "\n",
       "  function initMapLayer(layer, layerIndex, numLayers, hasLegends, map, mapIndex) {\n",
       "    const mapSource = factory.createSource(layer);\n",
       "    const mapViz = new carto.Viz(layer.viz);\n",
       "    const mapLayer = new carto.Layer(`layer${layerIndex}`, mapSource, mapViz);\n",
       "    const mapLayerIndex = numLayers - layerIndex - 1;\n",
       "\n",
       "    try {\n",
       "      mapLayer._updateLayer.catch(displayError);\n",
       "    } catch (e) {\n",
       "      throw e;\n",
       "    }\n",
       "\n",
       "\n",
       "    mapLayer.addTo(map);\n",
       "\n",
       "    setLayerLegend(layer, mapLayerIndex, mapLayer, mapIndex, hasLegends);\n",
       "    setLayerWidgets(map, layer, mapLayer, mapLayerIndex, mapSource);\n",
       "\n",
       "    return mapLayer;\n",
       "  }\n",
       "\n",
       "  function getInteractiveLayers(layers, mapLayers) {\n",
       "    const interactiveLayers = [];\n",
       "    const interactiveMapLayers = [];\n",
       "\n",
       "    layers.forEach((layer, index) => {\n",
       "      if (layer.interactivity) {\n",
       "        interactiveLayers.push(layer);\n",
       "        interactiveMapLayers.push(mapLayers[index]);\n",
       "      }\n",
       "    });\n",
       "\n",
       "    return { interactiveLayers, interactiveMapLayers };\n",
       "  }\n",
       "\n",
       "  function setLayerLegend(layer, mapLayerIndex, mapLayer, mapIndex, hasLegends) {\n",
       "    if (hasLegends && layer.legend) {\n",
       "      createLegend(mapLayer, layer.legend, mapLayerIndex, mapIndex);\n",
       "    }\n",
       "  }\n",
       "\n",
       "  function setLayerWidgets(map, layer, mapLayer, mapLayerIndex, mapSource) {\n",
       "    if (layer.widgets.length) {\n",
       "      initLayerWidgets(layer.widgets, mapLayerIndex);\n",
       "      updateLayerWidgets(layer.widgets, mapLayer);\n",
       "      bridgeLayerWidgets(map, mapLayer, mapSource, layer.widgets);\n",
       "    }\n",
       "  }\n",
       "\n",
       "  function initLayerWidgets(widgets, mapLayerIndex) {\n",
       "    widgets.forEach((widget, widgetIndex) => {\n",
       "      const id = `layer${mapLayerIndex}_widget${widgetIndex}`;\n",
       "      widget.id = id;\n",
       "    });\n",
       "  }\n",
       "\n",
       "  function updateLayerWidgets(widgets, mapLayer) {\n",
       "    mapLayer.on('updated', () => renderLayerWidgets(widgets, mapLayer));\n",
       "  }\n",
       "\n",
       "  function renderLayerWidgets(widgets, mapLayer) {\n",
       "    const variables = mapLayer.viz.variables;\n",
       "\n",
       "    widgets\n",
       "      .filter((widget) => !widget.has_bridge)\n",
       "      .forEach((widget) => {\n",
       "        const name = widget.variable_name;\n",
       "        const value = getWidgetValue(name, variables);\n",
       "        renderWidget(widget, value);\n",
       "      });\n",
       "  }\n",
       "\n",
       "  function getWidgetValue(name, variables) {\n",
       "    return name && variables[name] ? variables[name].value : null;\n",
       "  }\n",
       "\n",
       "  function setReady(settings) {\n",
       "    try {\n",
       "      return settings.maps ? initMaps(settings.maps) : initMap(settings);\n",
       "    } catch (e) {\n",
       "      displayError(e);\n",
       "    }\n",
       "  }\n",
       "\n",
       "  function initMaps(maps) {\n",
       "    return maps.map((mapSettings, mapIndex) => {\n",
       "      return initMap(mapSettings, mapIndex);\n",
       "    });\n",
       "  }\n",
       "\n",
       "  function initMap(settings, mapIndex) {\n",
       "    const basecolor = getBasecolorSettings(settings.basecolor);\n",
       "    const basemapStyle =  BASEMAPS[settings.basemap] || settings.basemap || basecolor;\n",
       "    const container = mapIndex !== undefined ? `map-${mapIndex}` : 'map';\n",
       "    const map = createMap(container, basemapStyle, settings.bounds, settings.mapboxtoken);\n",
       "\n",
       "    if (settings.show_info) {\n",
       "      updateViewport(map);\n",
       "    }\n",
       "\n",
       "    if (settings.camera) {\n",
       "      map.flyTo(settings.camera);\n",
       "    }\n",
       "\n",
       "    return initLayers(map, settings, mapIndex);\n",
       "  }\n",
       "\n",
       "  function initLayers(map, settings, mapIndex) {\n",
       "    const numLayers = settings.layers.length;\n",
       "    const hasLegends = settings.has_legends;\n",
       "    const isDefaultLegend = settings.default_legend;\n",
       "    const isStatic = settings.is_static;\n",
       "    const layers = settings.layers;\n",
       "    const mapLayers = getMapLayers(\n",
       "      layers,\n",
       "      numLayers,\n",
       "      hasLegends,\n",
       "      map,\n",
       "      mapIndex\n",
       "    );\n",
       "\n",
       "    createLegend$1(isDefaultLegend, mapLayers);\n",
       "    setInteractiveLayers(map, layers, mapLayers);\n",
       "\n",
       "    return waitForMapLayersLoad(isStatic, mapIndex, mapLayers);\n",
       "  }\n",
       "\n",
       "  function waitForMapLayersLoad(isStatic, mapIndex, mapLayers) {\n",
       "    return new Promise((resolve) => {\n",
       "      carto.on('loaded', mapLayers, onMapLayersLoaded.bind(\n",
       "        this, isStatic, mapIndex, mapLayers, resolve)\n",
       "      );\n",
       "    });\n",
       "  }\n",
       "\n",
       "  function onMapLayersLoaded(isStatic, mapIndex, mapLayers, resolve) {\n",
       "    if (isStatic) {\n",
       "      saveImage(mapIndex);\n",
       "    }\n",
       "\n",
       "    resolve(mapLayers);\n",
       "  }\n",
       "\n",
       "  function getMapLayers(layers, numLayers, hasLegends, map, mapIndex) {\n",
       "    return layers.map((layer, layerIndex) => {\n",
       "      return initMapLayer(layer, layerIndex, numLayers, hasLegends, map, mapIndex);\n",
       "    });\n",
       "  }\n",
       "\n",
       "  function setInteractiveLayers(map, layers, mapLayers) {\n",
       "    const { interactiveLayers, interactiveMapLayers } = getInteractiveLayers(layers, mapLayers);\n",
       "\n",
       "    if (interactiveLayers && interactiveLayers.length > 0) {\n",
       "      setInteractivity(map, interactiveLayers, interactiveMapLayers);\n",
       "    }\n",
       "  }\n",
       "\n",
       "  function createLegend$1(isDefaultLegend, mapLayers) {\n",
       "    if (isDefaultLegend) {\n",
       "      createDefaultLegend(mapLayers);\n",
       "    }\n",
       "  }\n",
       "\n",
       "  function createMap(container, basemapStyle, bounds, accessToken) {\n",
       "    const map = createMapboxGLMap(container, basemapStyle, accessToken);\n",
       "\n",
       "    map.addControl(attributionControl);\n",
       "    map.fitBounds(bounds, FIT_BOUNDS_SETTINGS);\n",
       "\n",
       "    return map;\n",
       "  }\n",
       "\n",
       "  function createMapboxGLMap(container, style, accessToken) {\n",
       "    if (accessToken) {\n",
       "      mapboxgl.accessToken = accessToken;\n",
       "    }\n",
       "\n",
       "    return new mapboxgl.Map({\n",
       "      container,\n",
       "      style,\n",
       "      zoom: 9,\n",
       "      dragRotate: false,\n",
       "      attributionControl: false\n",
       "    });\n",
       "  }\n",
       "\n",
       "  function init(settings) {\n",
       "    setReady(settings);\n",
       "  }\n",
       "\n",
       "  return init;\n",
       "\n",
       "}());\n",
       "</script>\n",
       "<script>\n",
       "  document\n",
       "  .querySelector('as-responsive-content')\n",
       "  .addEventListener('ready', () => {\n",
       "    const basecolor = '';\n",
       "    const basemap = 'Positron';\n",
       "    const bounds = [[-95.712891, 33.636666666667], [-84.300914, 37.09024]];\n",
       "    const camera = null;\n",
       "    const default_legend = 'False' === 'true';\n",
       "    const has_legends = 'False' === 'true';\n",
       "    const is_static = 'None' === 'true';\n",
       "    const layers = [{&quot;credentials&quot;: {&quot;api_key&quot;: &quot;default_public&quot;, &quot;base_url&quot;: &quot;&quot;, &quot;username&quot;: &quot;cartoframes&quot;}, &quot;has_legend_list&quot;: false, &quot;interactivity&quot;: [], &quot;legend&quot;: {}, &quot;query&quot;: &quot;eyJ0eXBlIjogIkZlYXR1cmVDb2xsZWN0aW9uIiwgImZlYXR1cmVzIjogW3siaWQiOiAiMCIsICJ0eXBlIjogIkZlYXR1cmUiLCAicHJvcGVydGllcyI6IHsibGF0aXR1ZGUiOiAzMy42MzY2NjY2NjY2NjcsICJsb2NhdGlvbiI6IHsidHlwZSI6ICJQb2ludCIsICJjb29yZGluYXRlcyI6IFstODQuNDI4MDU1NTU1NTU2LCAzMy42MzY2NjY2NjY2NjddfSwgImxvbmdpdHVkZSI6IC04NC40MjgwNTU1NTU1NTZ9LCAiZ2VvbWV0cnkiOiB7InR5cGUiOiAiUG9pbnQiLCAiY29vcmRpbmF0ZXMiOiBbLTg0LjQyODA1NTU1NTU1NiwgMzMuNjM2NjY2NjY2NjY3XX19XX0=&quot;, &quot;type&quot;: &quot;GeoJSON&quot;, &quot;viz&quot;: &quot;width: ramp(linear(zoom(),0,18),[2,10])\\nstrokeWidth: ramp(linear(zoom(),0,18),[0,1])\\nstrokeColor: opacity(#222,ramp(linear(zoom(),0,18),[0,0.6]))\\ncolor: blue&quot;, &quot;widgets&quot;: []}, {&quot;credentials&quot;: {&quot;api_key&quot;: &quot;default_public&quot;, &quot;base_url&quot;: &quot;&quot;, &quot;username&quot;: &quot;cartoframes&quot;}, &quot;has_legend_list&quot;: false, &quot;interactivity&quot;: [], &quot;legend&quot;: {}, &quot;query&quot;: &quot;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&quot;, &quot;type&quot;: &quot;GeoJSON&quot;, &quot;viz&quot;: &quot;width: ramp(linear(zoom(),0,18),[2,10])\\nstrokeWidth: ramp(linear(zoom(),0,18),[0,1])\\nstrokeColor: opacity(#222,ramp(linear(zoom(),0,18),[0,0.6]))\\ncolor: green&quot;, &quot;widgets&quot;: []}, {&quot;credentials&quot;: {&quot;api_key&quot;: &quot;default_public&quot;, &quot;base_url&quot;: &quot;&quot;, &quot;username&quot;: &quot;cartoframes&quot;}, &quot;has_legend_list&quot;: false, &quot;interactivity&quot;: [], &quot;legend&quot;: {}, &quot;query&quot;: &quot;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&quot;, &quot;type&quot;: &quot;GeoJSON&quot;, &quot;viz&quot;: &quot;width: ramp(linear(zoom(),0,18),[2,10])\\nstrokeWidth: ramp(linear(zoom(),0,18),[0,1])\\nstrokeColor: opacity(#222,ramp(linear(zoom(),0,18),[0,0.6]))\\ncolor: yellow&quot;, &quot;widgets&quot;: []}, {&quot;credentials&quot;: {&quot;api_key&quot;: &quot;default_public&quot;, &quot;base_url&quot;: &quot;&quot;, &quot;username&quot;: &quot;cartoframes&quot;}, &quot;has_legend_list&quot;: false, &quot;interactivity&quot;: [], &quot;legend&quot;: {}, &quot;query&quot;: &quot;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&quot;, &quot;type&quot;: &quot;GeoJSON&quot;, &quot;viz&quot;: &quot;width: ramp(linear(zoom(),0,18),[2,10])\\nstrokeWidth: ramp(linear(zoom(),0,18),[0,1])\\nstrokeColor: opacity(#222,ramp(linear(zoom(),0,18),[0,0.6]))\\ncolor: red&quot;, &quot;widgets&quot;: []}];\n",
       "    const mapboxtoken = '';\n",
       "    const show_info = 'None' === 'true';\n",
       "\n",
       "    init({\n",
       "      basecolor,\n",
       "      basemap,\n",
       "      bounds,\n",
       "      camera,\n",
       "      default_legend,\n",
       "      has_legends,\n",
       "      is_static,\n",
       "      layers,\n",
       "      mapboxtoken,\n",
       "      show_info\n",
       "    });\n",
       "});\n",
       "</script>\n",
       "</html>\n",
       "\">\n",
       "\n",
       "</iframe>"
      ],
      "text/plain": [
       "<cartoframes.viz.map.Map at 0x120778190>"
      ]
     },
     "execution_count": 129,
     "metadata": {},
     "output_type": "execute_result"
    }
   ],
   "source": [
    "Map([Layer(gAeropuerto, 'color: blue'), Layer(gStarbAtlanta, 'color: green'), Layer(gColegios, 'color: yellow'), Layer(gCompaniesAtlanta, 'color: red')], interactive=True)"
   ]
  },
  {
   "cell_type": "markdown",
   "metadata": {},
   "source": [
    "# Distance y Geoquery del punto de Atlanta que deseo"
   ]
  },
  {
   "cell_type": "code",
   "execution_count": 29,
   "metadata": {},
   "outputs": [
    {
     "data": {
      "text/plain": [
       "{'type': 'Point', 'coordinates': [-84.38191, 33.75443]}"
      ]
     },
     "execution_count": 29,
     "metadata": {},
     "output_type": "execute_result"
    }
   ],
   "source": [
    "def geocode(address):\n",
    "    data = requests.get(f\"https://geocode.xyz/{address}?json=1\").json()\n",
    "    return {\n",
    "        \"type\":\"Point\",\n",
    "        \"coordinates\":[float(data[\"longt\"]),float(data[\"latt\"])]\n",
    "    }\n",
    "cocaCola_atlanta = geocode(\"Coca Cola Atlanta\")\n",
    "cocaCola_atlanta"
   ]
  },
  {
   "cell_type": "code",
   "execution_count": 30,
   "metadata": {},
   "outputs": [
    {
     "data": {
      "text/plain": [
       "{'type': 'Point', 'coordinates': [-84.38915, 33.75268]}"
      ]
     },
     "execution_count": 30,
     "metadata": {},
     "output_type": "execute_result"
    }
   ],
   "source": [
    "puntoAtlanta = geocode(\"Wall Street Atlanta\")\n",
    "puntoAtlanta"
   ]
  },
  {
   "cell_type": "code",
   "execution_count": 31,
   "metadata": {},
   "outputs": [
    {
     "name": "stdout",
     "output_type": "stream",
     "text": [
      "{'location': {'$near': {'$geometry': {'coordinates': [-84.38191, 33.75443],\n",
      "                                      'type': 'Point'},\n",
      "                        '$maxDistance': 3000,\n",
      "                        '$minDistance': 0}}}\n"
     ]
    }
   ],
   "source": [
    "geoquery_cocaCola = withGeoQuery(cocaCola_atlanta)\n",
    "pprint(geoquery_cocaCola)"
   ]
  },
  {
   "cell_type": "code",
   "execution_count": 32,
   "metadata": {},
   "outputs": [
    {
     "name": "stdout",
     "output_type": "stream",
     "text": [
      "{'location': {'$near': {'$geometry': {'coordinates': [-84.38915, 33.75268],\n",
      "                                      'type': 'Point'},\n",
      "                        '$maxDistance': 3000,\n",
      "                        '$minDistance': 0}}}\n"
     ]
    }
   ],
   "source": [
    "geoquery_puntoAtlanta = withGeoQuery(puntoAtlanta)\n",
    "pprint(geoquery_puntoAtlanta)"
   ]
  },
  {
   "cell_type": "code",
   "execution_count": 33,
   "metadata": {
    "scrolled": true
   },
   "outputs": [],
   "source": [
    "db = client.get_database(\"companies\")\n",
    "#list(db[\"resultado_final\"].find({}))"
   ]
  },
  {
   "cell_type": "code",
   "execution_count": 34,
   "metadata": {},
   "outputs": [
    {
     "name": "stdout",
     "output_type": "stream",
     "text": [
      "45\n"
     ]
    }
   ],
   "source": [
    "cerca_cocaCola = list(db[\"resultado_final\"].find(geoquery_cocaCola))\n",
    "print(len(cerca_cocaCola))"
   ]
  },
  {
   "cell_type": "code",
   "execution_count": 35,
   "metadata": {},
   "outputs": [
    {
     "name": "stdout",
     "output_type": "stream",
     "text": [
      "42\n"
     ]
    }
   ],
   "source": [
    "punto_centro_Atlanta = list(db[\"resultado_final\"].find(geoquery_puntoAtlanta))\n",
    "print(len(punto_centro_Atlanta))"
   ]
  },
  {
   "cell_type": "code",
   "execution_count": 36,
   "metadata": {
    "scrolled": true
   },
   "outputs": [
    {
     "name": "stdout",
     "output_type": "stream",
     "text": [
      "13\n"
     ]
    }
   ],
   "source": [
    "result = pd.DataFrame(cerca_cocaCola)\n",
    "starbucks_totales_radio3km = result[result['name'].str.contains(\"Starbucks\")]\n",
    "print(len(starbucks_totales_radio3km))"
   ]
  },
  {
   "cell_type": "code",
   "execution_count": 37,
   "metadata": {},
   "outputs": [
    {
     "name": "stdout",
     "output_type": "stream",
     "text": [
      "9\n"
     ]
    }
   ],
   "source": [
    "result = pd.DataFrame(punto_centro_Atlanta)\n",
    "starbucks_totales_radio3km = result[result['name'].str.contains(\"Starbucks\")]\n",
    "print(len(starbucks_totales_radio3km))"
   ]
  },
  {
   "cell_type": "code",
   "execution_count": 38,
   "metadata": {},
   "outputs": [
    {
     "name": "stdout",
     "output_type": "stream",
     "text": [
      "28\n"
     ]
    }
   ],
   "source": [
    "result = pd.DataFrame(cerca_cocaCola)\n",
    "colegios_totales_radio3km = result[result.type.notnull()]\n",
    "print(len(colegios_totales_radio3km))"
   ]
  },
  {
   "cell_type": "code",
   "execution_count": 39,
   "metadata": {},
   "outputs": [
    {
     "name": "stdout",
     "output_type": "stream",
     "text": [
      "29\n"
     ]
    }
   ],
   "source": [
    "result = pd.DataFrame(punto_centro_Atlanta)\n",
    "colegios_totales_radio3km = result[result.type.notnull()]\n",
    "print(len(colegios_totales_radio3km))"
   ]
  },
  {
   "cell_type": "code",
   "execution_count": 40,
   "metadata": {},
   "outputs": [
    {
     "name": "stdout",
     "output_type": "stream",
     "text": [
      "4\n"
     ]
    }
   ],
   "source": [
    "result = pd.DataFrame(cerca_cocaCola)\n",
    "companies_totales_radio3km = result[result['total_money_raised'].str.contains(\"M\", na = False)]\n",
    "print(len(companies_totales_radio3km))"
   ]
  },
  {
   "cell_type": "code",
   "execution_count": 41,
   "metadata": {},
   "outputs": [
    {
     "name": "stdout",
     "output_type": "stream",
     "text": [
      "4\n"
     ]
    }
   ],
   "source": [
    "result = pd.DataFrame(punto_centro_Atlanta)\n",
    "companies_totales_radio3km = result[result['total_money_raised'].str.contains(\"M\", na = False)]\n",
    "print(len(companies_totales_radio3km))"
   ]
  },
  {
   "cell_type": "code",
   "execution_count": 42,
   "metadata": {},
   "outputs": [
    {
     "name": "stdout",
     "output_type": "stream",
     "text": [
      "45.70096668267049\n"
     ]
    }
   ],
   "source": [
    "puntoAtlanta = (33.7772, -84.3901)\n",
    "hartsfield_Jackson = (33.3812, -84.2541)\n",
    "print(distance.distance(puntoAtlanta, hartsfield_Jackson).km)"
   ]
  },
  {
   "cell_type": "code",
   "execution_count": 43,
   "metadata": {},
   "outputs": [
    {
     "name": "stdout",
     "output_type": "stream",
     "text": [
      "43.06404143269257\n"
     ]
    }
   ],
   "source": [
    "cocaCola =  (33.75443,-84.38191)\n",
    "hartsfield_Jackson = (33.3812, -84.2541)\n",
    "print(distance.distance(hartsfield_Jackson, cocaCola).km)"
   ]
  },
  {
   "cell_type": "code",
   "execution_count": 44,
   "metadata": {},
   "outputs": [],
   "source": [
    "# Obtuve los sitios cercanos a 2 puntos. Y como resultado pondría mi empresa en el punto del centro de Atlanta y no es\n",
    "# porque haya dado 1 empresa más que el punto de Coca Cola Company, sería porque tendría cerca una opción de \n",
    "# colegio más y adicionalmente 1 empresa más que haya obtenido el total_money_raised que busqué inicialmente.\n",
    "# Las distancias de ambos puntos con respecto al aeropuerto son bastante similares por lo tanto no influyen en la \n",
    "# toma de mi decisión."
   ]
  },
  {
   "cell_type": "code",
   "execution_count": null,
   "metadata": {},
   "outputs": [],
   "source": []
  }
 ],
 "metadata": {
  "kernelspec": {
   "display_name": "Python 3",
   "language": "python",
   "name": "python3"
  },
  "language_info": {
   "codemirror_mode": {
    "name": "ipython",
    "version": 3
   },
   "file_extension": ".py",
   "mimetype": "text/x-python",
   "name": "python",
   "nbconvert_exporter": "python",
   "pygments_lexer": "ipython3",
   "version": "3.7.5"
  }
 },
 "nbformat": 4,
 "nbformat_minor": 4
}
